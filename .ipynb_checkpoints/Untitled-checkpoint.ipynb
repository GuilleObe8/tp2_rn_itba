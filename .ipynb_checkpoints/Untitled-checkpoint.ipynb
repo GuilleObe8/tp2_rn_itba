{
 "cells": [
  {
   "cell_type": "markdown",
   "id": "e024c961-8157-4113-b1de-4f4cb2a5789d",
   "metadata": {},
   "source": [
    "ESTO ES UNA PRUEBA"
   ]
  }
 ],
 "metadata": {
  "kernelspec": {
   "display_name": "Python 3 (ipykernel)",
   "language": "python",
   "name": "python3"
  },
  "language_info": {
   "codemirror_mode": {
    "name": "ipython",
    "version": 3
   },
   "file_extension": ".py",
   "mimetype": "text/x-python",
   "name": "python",
   "nbconvert_exporter": "python",
   "pygments_lexer": "ipython3",
   "version": "3.8.10"
  }
 },
 "nbformat": 4,
 "nbformat_minor": 5
}
